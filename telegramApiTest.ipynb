{
 "cells": [
  {
   "cell_type": "code",
   "execution_count": 1,
   "metadata": {},
   "outputs": [],
   "source": [
    "import requests\n",
    "from dotenv import load_dotenv\n",
    "import os\n",
    "\n",
    "load_dotenv()\n",
    "\n",
    "TOKEN = os.getenv('TELEGRAM_BOT_TOKEN')\n",
    "CHANNEL_ID = os.getenv('TELEGRAM_CHANNEL_ID')\n",
    "\n",
    "def send_message(token, channel_id, message, parse_mode='Markdown'):\n",
    "    url = f'https://api.telegram.org/bot{token}/sendMessage'\n",
    "    payload = {\n",
    "        'chat_id': channel_id,\n",
    "        'text': message,\n",
    "        'parse_mode': parse_mode\n",
    "    }\n",
    "    response = requests.post(url, data=payload)\n",
    "    return response.json()"
   ]
  },
  {
   "cell_type": "code",
   "execution_count": 2,
   "metadata": {},
   "outputs": [],
   "source": [
    "message = \"\"\"\n",
    "*Innovate and Thrive: Insights from \"The Lean Startup\"*\n",
    "*Overview of the Content:*\n",
    "\"The Lean Startup\" by Eric Ries is a seminal book that provides a scientific approach to creating and managing successful startups in an age when companies are built on constant innovation. It emphasizes the importance of developing a lean business model that prioritizes rapid iteration and customer feedback. Through practical case studies and examples, Ries introduces methodologies like validated learning, the Build-Measure-Learn loop, and innovative accounting, which help startups grow sustainably.\n",
    "\n",
    "*Key Insights:*\n",
    "- *Validated Learning:* Focus on learning what customers really want through experimentation.\n",
    "- *Build-Measure-Learn:* Develop ideas quickly, measure their success or failure in the market, and learn from these results.\n",
    "- *Minimum Viable Product (MVP):* Create the simplest version of the product to start the learning process as soon as possible.\n",
    "- *Pivot or Persevere:* Decide whether to continue with the current strategy or pivot based on feedback and results.\n",
    "- *Innovation Accounting:* Establish metrics that can measure progress, set up milestones, and prioritize work.\n",
    "\n",
    "*How to Apply the Insights Practically:*\n",
    "1. *Validated Learning:*\n",
    "   - Conduct frequent customer interviews and tests.\n",
    "   - Create hypotheses about your business and test them systematically.\n",
    "2. *Build-Measure-Learn:*\n",
    "   - Start with an MVP to gather insights quickly.\n",
    "   - Implement a feedback loop where you can adapt based on real data.\n",
    "3. *Minimum Viable Product:*\n",
    "   - Strip your product down to its most essential features.\n",
    "   - Release the MVP to early adopters and iterate based on their feedback.\n",
    "4. *Pivot or Persevere:*\n",
    "   - Regularly review performance metrics and customer feedback.\n",
    "   - Be prepared to make significant changes to your business model if necessary.\n",
    "5. *Innovation Accounting:*\n",
    "   - Use actionable metrics to track progress.\n",
    "   - Set clear, achievable milestones and adjust strategies as needed.\n",
    "\n",
    "*Related Books/Reads:*\n",
    "- *\"The Startup Owner's Manual\"* by Steve Blank and Bob Dorf\n",
    "- *\"Zero to One\"* by Peter Thiel\n",
    "- *\"Crossing the Chasm\"* by Geoffrey A. Moore\n",
    "- *\"Running Lean\"* by Ash Maurya\n",
    "- *\"The Four Steps to the Epiphany\"* by Steve Blank\n",
    "\n",
    "*Final Thoughts:*\n",
    "`\"The Lean Startup\" is a game-changer for entrepreneurs and intrapreneurs alike, offering a roadmap for building a business that is both innovative and adaptable. Its emphasis on iterative development, customer feedback, and data-driven decision-making resonates deeply in today's fast-paced market. Personally, the insights from the book highlight the importance of agility and responsiveness in business, and they provide a clear framework for turning ambitious ideas into successful enterprises. By adopting these principles, entrepreneurs can navigate the uncertainties of startup life with greater confidence and clarity.`\n",
    "\"\"\""
   ]
  },
  {
   "cell_type": "code",
   "execution_count": 3,
   "metadata": {},
   "outputs": [
    {
     "name": "stdout",
     "output_type": "stream",
     "text": [
      "{'ok': True, 'result': {'message_id': 12, 'sender_chat': {'id': -1002177083700, 'title': 'Book Bites', 'type': 'channel'}, 'chat': {'id': -1002177083700, 'title': 'Book Bites', 'type': 'channel'}, 'date': 1722419583, 'text': 'Innovate and Thrive: Insights from \"The Lean Startup\"\\nOverview of the Content:\\n\"The Lean Startup\" by Eric Ries is a seminal book that provides a scientific approach to creating and managing successful startups in an age when companies are built on constant innovation. It emphasizes the importance of developing a lean business model that prioritizes rapid iteration and customer feedback. Through practical case studies and examples, Ries introduces methodologies like validated learning, the Build-Measure-Learn loop, and innovative accounting, which help startups grow sustainably.\\n\\nKey Insights:\\n- Validated Learning: Focus on learning what customers really want through experimentation.\\n- Build-Measure-Learn: Develop ideas quickly, measure their success or failure in the market, and learn from these results.\\n- Minimum Viable Product (MVP): Create the simplest version of the product to start the learning process as soon as possible.\\n- Pivot or Persevere: Decide whether to continue with the current strategy or pivot based on feedback and results.\\n- Innovation Accounting: Establish metrics that can measure progress, set up milestones, and prioritize work.\\n\\nHow to Apply the Insights Practically:\\n1. Validated Learning:\\n   - Conduct frequent customer interviews and tests.\\n   - Create hypotheses about your business and test them systematically.\\n2. Build-Measure-Learn:\\n   - Start with an MVP to gather insights quickly.\\n   - Implement a feedback loop where you can adapt based on real data.\\n3. Minimum Viable Product:\\n   - Strip your product down to its most essential features.\\n   - Release the MVP to early adopters and iterate based on their feedback.\\n4. Pivot or Persevere:\\n   - Regularly review performance metrics and customer feedback.\\n   - Be prepared to make significant changes to your business model if necessary.\\n5. Innovation Accounting:\\n   - Use actionable metrics to track progress.\\n   - Set clear, achievable milestones and adjust strategies as needed.\\n\\nRelated Books/Reads:\\n- \"The Startup Owner\\'s Manual\" by Steve Blank and Bob Dorf\\n- \"Zero to One\" by Peter Thiel\\n- \"Crossing the Chasm\" by Geoffrey A. Moore\\n- \"Running Lean\" by Ash Maurya\\n- \"The Four Steps to the Epiphany\" by Steve Blank\\n\\nFinal Thoughts:\\n\"The Lean Startup\" is a game-changer for entrepreneurs and intrapreneurs alike, offering a roadmap for building a business that is both innovative and adaptable. Its emphasis on iterative development, customer feedback, and data-driven decision-making resonates deeply in today\\'s fast-paced market. Personally, the insights from the book highlight the importance of agility and responsiveness in business, and they provide a clear framework for turning ambitious ideas into successful enterprises. By adopting these principles, entrepreneurs can navigate the uncertainties of startup life with greater confidence and clarity.', 'entities': [{'offset': 0, 'length': 53, 'type': 'bold'}, {'offset': 54, 'length': 24, 'type': 'bold'}, {'offset': 586, 'length': 13, 'type': 'bold'}, {'offset': 602, 'length': 19, 'type': 'bold'}, {'offset': 694, 'length': 20, 'type': 'bold'}, {'offset': 818, 'length': 29, 'type': 'bold'}, {'offset': 944, 'length': 19, 'type': 'bold'}, {'offset': 1059, 'length': 22, 'type': 'bold'}, {'offset': 1168, 'length': 38, 'type': 'bold'}, {'offset': 1210, 'length': 19, 'type': 'bold'}, {'offset': 1359, 'length': 20, 'type': 'bold'}, {'offset': 1505, 'length': 23, 'type': 'bold'}, {'offset': 1669, 'length': 19, 'type': 'bold'}, {'offset': 1839, 'length': 22, 'type': 'bold'}, {'offset': 1981, 'length': 20, 'type': 'bold'}, {'offset': 2004, 'length': 28, 'type': 'bold'}, {'offset': 2063, 'length': 13, 'type': 'bold'}, {'offset': 2094, 'length': 20, 'type': 'bold'}, {'offset': 2138, 'length': 14, 'type': 'bold'}, {'offset': 2169, 'length': 32, 'type': 'bold'}, {'offset': 2218, 'length': 15, 'type': 'bold'}, {'offset': 2234, 'length': 625, 'type': 'code'}]}}\n"
     ]
    }
   ],
   "source": [
    "\n",
    "response = send_message(TOKEN, CHANNEL_ID, message)\n",
    "print(response)"
   ]
  }
 ],
 "metadata": {
  "kernelspec": {
   "display_name": "env",
   "language": "python",
   "name": "python3"
  },
  "language_info": {
   "codemirror_mode": {
    "name": "ipython",
    "version": 3
   },
   "file_extension": ".py",
   "mimetype": "text/x-python",
   "name": "python",
   "nbconvert_exporter": "python",
   "pygments_lexer": "ipython3",
   "version": "3.11.2"
  }
 },
 "nbformat": 4,
 "nbformat_minor": 2
}
